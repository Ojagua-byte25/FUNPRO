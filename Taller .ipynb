{
  "nbformat": 4,
  "nbformat_minor": 0,
  "metadata": {
    "colab": {
      "provenance": []
    },
    "kernelspec": {
      "name": "python3",
      "display_name": "Python 3"
    },
    "language_info": {
      "name": "python"
    }
  },
  "cells": [
    {
      "cell_type": "code",
      "source": [
        "h = float(input(\"Humedad del suelo: \"))\n",
        "p = float(input(\"Probabilidad de lluvia: \"))\n",
        "t = float(input(\"Temperatura: \"))\n",
        "if h == 0 or p == 0 or t == 0:\n",
        "    print(\"Error sensor\")\n",
        "else:\n",
        "    if p >= 70:\n",
        "        print(\"No se riega por lluvia\")\n",
        "    else:\n",
        "        if t > 30:\n",
        "            print(\"No se riega por alta temperatura\")\n",
        "        else:\n",
        "            if h < 35 and p < 40:\n",
        "                print(\"Se riega\")\n",
        "            else:\n",
        "                print(\"No se riega\")"
      ],
      "metadata": {
        "colab": {
          "base_uri": "https://localhost:8080/"
        },
        "id": "mjX05Pp-GlEe",
        "outputId": "c8c93722-8336-40f6-eca6-1127f967da83"
      },
      "execution_count": 12,
      "outputs": [
        {
          "output_type": "stream",
          "name": "stdout",
          "text": [
            "Humedad del suelo: 50\n",
            "Probabilidad de lluvia: 30\n",
            "Temperatura: 40\n",
            "No se riega por alta temperatura\n"
          ]
        }
      ]
    },
    {
      "cell_type": "code",
      "source": [
        "consumo = float(input(\"Ingrese el consumo de Kwh: \"))\n",
        "estrato = int(input(\"Ingrese el estrato social: \"))\n",
        "festivo = input(\"¿Hoy es festivo? (si/no): \")\n",
        "if consumo < 0 or estrato < 0:\n",
        "    print(\"No se puede calcular el total, por favor verifique los datos.\")\n",
        "else:\n",
        "    total_pagar = consumo * 620\n",
        "    if estrato == 0 or estrato == 1 or estrato == 2:\n",
        "        total_pagar = total_pagar * 0.8  # Aplica descuento del 20%\n",
        "    if festivo == \"si\" and consumo > 1000:\n",
        "        recargo = (consumo - 1000) * 800\n",
        "        total_pagar = total_pagar + recargo\n",
        "    print(\"El total a pagar es:\", total_pagar)"
      ],
      "metadata": {
        "colab": {
          "base_uri": "https://localhost:8080/"
        },
        "id": "AR5GQWRBG-MB",
        "outputId": "9efbe1ca-b2d5-4aee-c11e-7ebf2e4f2cc7"
      },
      "execution_count": 18,
      "outputs": [
        {
          "output_type": "stream",
          "name": "stdout",
          "text": [
            "Ingrese el consumo de Kwh: 2000\n",
            "Ingrese el estrato social: 3\n",
            "¿Hoy es festivo? (si/no): si\n",
            "El total a pagar es: 2040000.0\n"
          ]
        }
      ]
    }
  ]
}