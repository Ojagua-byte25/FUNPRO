{
  "nbformat": 4,
  "nbformat_minor": 0,
  "metadata": {
    "colab": {
      "provenance": [],
      "authorship_tag": "ABX9TyPTJf9a/+XVdil3ndUSi6jS",
      "include_colab_link": true
    },
    "kernelspec": {
      "name": "python3",
      "display_name": "Python 3"
    },
    "language_info": {
      "name": "python"
    }
  },
  "cells": [
    {
      "cell_type": "markdown",
      "metadata": {
        "id": "view-in-github",
        "colab_type": "text"
      },
      "source": [
        "<a href=\"https://colab.research.google.com/github/Ojagua-byte25/FUNPRO/blob/main/programacion_22_09_2025%2C3.ipynb\" target=\"_parent\"><img src=\"https://colab.research.google.com/assets/colab-badge.svg\" alt=\"Open In Colab\"/></a>"
      ]
    },
    {
      "cell_type": "code",
      "execution_count": null,
      "metadata": {
        "colab": {
          "base_uri": "https://localhost:8080/"
        },
        "id": "PsnPHe5ZfS-t",
        "outputId": "a1967ef1-78ea-47b1-b444-2d5086ac80d6"
      },
      "outputs": [
        {
          "output_type": "stream",
          "name": "stdout",
          "text": [
            "Ingresa un número: 2\n",
            "Positivo\n"
          ]
        }
      ],
      "source": [
        "#Verificar si un número es positivo, negativo o cero\n",
        "numero = float(input(\"Ingresa un número: \"))\n",
        "\n",
        "if numero > 0:\n",
        "    print(\"Positivo\")\n",
        "elif numero < 0:\n",
        "    print(\"Negativo\")\n",
        "else:\n",
        "    print(\"Cero\")"
      ]
    },
    {
      "cell_type": "code",
      "source": [
        "#Verificar si un número es positivo, negativo o cero\n",
        "numero = float(input(\"Ingresa un número: \"))\n",
        "\n",
        "if numero > 0:\n",
        "    print(\"Positivo\")\n",
        "else:\n",
        "    if numero < 0:\n",
        "        print(\"Negativo\")\n",
        "    else:\n",
        "        print(\"Cero\")"
      ],
      "metadata": {
        "colab": {
          "base_uri": "https://localhost:8080/"
        },
        "id": "bE5Lx9CAfaAa",
        "outputId": "5a21d317-7548-4f85-9913-57cef1ed9a1c"
      },
      "execution_count": null,
      "outputs": [
        {
          "output_type": "stream",
          "name": "stdout",
          "text": [
            "Ingresa un número: 2\n",
            "Positivo\n"
          ]
        }
      ]
    },
    {
      "cell_type": "code",
      "source": [
        "#Determinar si un año es bisiesto con if/elif/else\n",
        "AÑO=int(input(\"Ingresar año: \"))\n",
        "n1=AÑO%100\n",
        "n2=AÑO%4\n",
        "n3=AÑO%400\n",
        "if n3==0 or n2==0 :\n",
        "  print(f\"{AÑO} es un año bisesto\")\n",
        "elif n1==0:\n",
        "  print(f\"{AÑO} Para nada es un año bisiesto\")\n",
        "else:\n",
        "  print(f\"{AÑO} Para nada es un año bisiesto\")"
      ],
      "metadata": {
        "colab": {
          "base_uri": "https://localhost:8080/"
        },
        "id": "7E8n8zT1fnVw",
        "outputId": "0ac96b85-cb24-4a87-ba8a-8d0e9c54a4a8"
      },
      "execution_count": null,
      "outputs": [
        {
          "output_type": "stream",
          "name": "stdout",
          "text": [
            "Ingresar año: 2025\n",
            "2025 no es un año bisiesto\n"
          ]
        }
      ]
    },
    {
      "cell_type": "code",
      "source": [
        "#Determinar si un año es bisiesto con if/else\n",
        "AÑO=int(input(\"Ingresar año:\"))\n",
        "n1=AÑO%100\n",
        "n2=AÑO%4\n",
        "n3=AÑO%400\n",
        "if n3==0 or n2==0 :\n",
        "  print(f\"{AÑO} es un año bisiesto\")\n",
        "elif n1==0:\n",
        "  print(f\"{AÑO} Para nada es un año bisiesto\")\n",
        "else:\n",
        "  print(f\"{AÑO} Para nada es un año bisiesto\")"
      ],
      "metadata": {
        "colab": {
          "base_uri": "https://localhost:8080/"
        },
        "id": "bpVmsATOgB7G",
        "outputId": "afdde8b3-532a-45a6-ab4a-e91e4d0b6996"
      },
      "execution_count": null,
      "outputs": [
        {
          "output_type": "stream",
          "name": "stdout",
          "text": [
            "Ingresar año:2025\n",
            "2025 no es un año bisiesto\n"
          ]
        }
      ]
    },
    {
      "cell_type": "code",
      "source": [
        "#Ejercicio 3: Calculadora de IMC\n",
        "peso = float(input(\"Ingresa su peso en kg: \"))\n",
        "altura = float(input(\"Ingresa su altura en metros: \"))\n",
        "imc = peso / (altura ** 2)\n",
        "if imc < 18.5:\n",
        "    print(\"Bajo peso\")\n",
        "elif 18.5 <= imc < 25:\n",
        "    print(\"Peso normal\")\n",
        "elif 25 <= imc < 30:\n",
        "    print(\"Sobrepeso\")\n",
        "else:\n",
        "    print(\"Obesidad\")"
      ],
      "metadata": {
        "colab": {
          "base_uri": "https://localhost:8080/"
        },
        "id": "vCg07a8ogFNn",
        "outputId": "27faea06-2da8-42f5-96b5-a7a3582d5980"
      },
      "execution_count": null,
      "outputs": [
        {
          "output_type": "stream",
          "name": "stdout",
          "text": [
            "Ingresa tu peso en kg: 200\n",
            "Ingresa tu altura en metros: 1.90\n",
            "Obesidad\n"
          ]
        }
      ]
    },
    {
      "cell_type": "code",
      "source": [
        "# Ejercicio 3: Calculadora de IMC\n",
        "peso = float(input(\"Ingresa su peso en kg: \"))\n",
        "altura = float(input(\"Ingresa su altura en metros: \"))\n",
        "imc = peso / (altura ** 2)\n",
        "if imc < 18.5:\n",
        "    print(\"Bajo peso\")\n",
        "else:\n",
        "    if imc < 24.9:\n",
        "        print(\"Peso normal\")\n",
        "    else:\n",
        "        if imc < 29.9:\n",
        "            print(\"Sobrepeso\")\n",
        "        else:\n",
        "            print(\"Obesidad\")"
      ],
      "metadata": {
        "colab": {
          "base_uri": "https://localhost:8080/"
        },
        "id": "uN32CjYGght0",
        "outputId": "1ecab22f-0576-417c-a8fb-2eca7850eb30"
      },
      "execution_count": null,
      "outputs": [
        {
          "output_type": "stream",
          "name": "stdout",
          "text": [
            "Ingresa su peso en kg: 200\n",
            "Ingresa su altura en metros: 2\n",
            "Obesidad\n"
          ]
        }
      ]
    },
    {
      "cell_type": "code",
      "source": [
        "#Menu de opciones Match\n",
        "print(\"Selecciona una operación:\")\n",
        "print(\"1: Suma\")\n",
        "print(\"2: Resta\")\n",
        "print(\"3: Multiplicación\")\n",
        "print(\"4: División\")\n",
        "opcion = int(input(\"Ingresa el número de la operación: \"))\n",
        "num1 = float(input(\"Ingresa el primer número: \"))\n",
        "num2 = float(input(\"Ingresa el segundo número: \"))\n",
        "match opcion:\n",
        "    case 1:\n",
        "        print(\"Resultado:\", num1 + num2)\n",
        "    case 2:\n",
        "        print(\"Resultado:\", num1 - num2)\n",
        "    case 3:\n",
        "        print(\"Resultado:\", num1 * num2)\n",
        "    case 4:\n",
        "        if num2 == 0:\n",
        "            print(\"No se puede dividir por cero.\")\n",
        "        else:\n",
        "            print(\"Resultado:\", num1 / num2)\n",
        "    case _:\n",
        "        print(\"Opción no válida.\")\n"
      ],
      "metadata": {
        "colab": {
          "base_uri": "https://localhost:8080/"
        },
        "id": "XmdM_yRgBRgj",
        "outputId": "6bd4e40c-0e1d-4bd7-b214-96799ce028e7"
      },
      "execution_count": null,
      "outputs": [
        {
          "output_type": "stream",
          "name": "stdout",
          "text": [
            "Selecciona una operación:\n",
            "1: Suma\n",
            "2: Resta\n",
            "3: Multiplicación\n",
            "4: División\n",
            "Ingresa el número de la operación: 2\n",
            "Ingresa el primer número: 3\n",
            "Ingresa el segundo número: 1\n",
            "Resultado: 2.0\n"
          ]
        }
      ]
    },
    {
      "cell_type": "code",
      "source": [
        "#Menu de opciones If/Else\n",
        "print(\"Selecciona una operación:\")\n",
        "print(\"1: Suma\")\n",
        "print(\"2: Resta\")\n",
        "print(\"3: Multiplicación\")\n",
        "print(\"4: División\")\n",
        "opcion = int(input(\"Ingresa el número de la operación: \"))\n",
        "num1 = float(input(\"Ingresa el primer número: \"))\n",
        "num2 = float(input(\"Ingresa el segundo número: \"))\n",
        "if opcion == 1:\n",
        "    print(\"Resultado:\", num1 + num2)\n",
        "else:\n",
        "    if opcion == 2:\n",
        "        print(\"Resultado:\", num1 - num2)\n",
        "    else:\n",
        "        if opcion == 3:\n",
        "            print(\"Resultado:\", num1 * num2)\n",
        "        else:\n",
        "            if opcion == 4:\n",
        "                if num2 == 0:\n",
        "                    print(\"No se puede dividir por cero.\")\n",
        "                else:\n",
        "                    print(\"Resultado:\", num1 / num2)\n",
        "            else:\n",
        "                print(\"Opción no válida.\")"
      ],
      "metadata": {
        "colab": {
          "base_uri": "https://localhost:8080/"
        },
        "id": "Dah2R_1wBrAG",
        "outputId": "37df46c3-0e09-4402-acb7-6a92e21129a0"
      },
      "execution_count": null,
      "outputs": [
        {
          "output_type": "stream",
          "name": "stdout",
          "text": [
            "Selecciona una operación:\n",
            "1: Suma\n",
            "2: Resta\n",
            "3: Multiplicación\n",
            "4: División\n",
            "Ingresa el número de la operación: 3\n",
            "Ingresa el primer número: 4\n",
            "Ingresa el segundo número: 2\n",
            "Resultado: 8.0\n"
          ]
        }
      ]
    },
    {
      "cell_type": "code",
      "source": [
        "#Menu de opciones If/Elif/else\n",
        "print(\"Selecciona una operación:\")\n",
        "print(\"1: Suma\")\n",
        "print(\"2: Resta\")\n",
        "print(\"3: Multiplicación\")\n",
        "print(\"4: División\")\n",
        "opcion = int(input(\"Ingresa el número de la operación: \"))\n",
        "num1 = float(input(\"Ingresa el primer número: \"))\n",
        "num2 = float(input(\"Ingresa el segundo número: \"))\n",
        "if opcion == 1:\n",
        "    print(\"Resultado:\", num1 + num2)\n",
        "elif opcion == 2:\n",
        "    print(\"Resultado:\", num1 - num2)\n",
        "elif opcion == 3:\n",
        "    print(\"Resultado:\", num1 * num2)\n",
        "elif opcion == 4:\n",
        "    if num2 == 0:\n",
        "        print(\"No se puede dividir por cero.\")\n",
        "    else:\n",
        "        print(\"Resultado:\", num1 / num2)\n",
        "else:\n",
        "    print(\"Opción no válida.\")"
      ],
      "metadata": {
        "colab": {
          "base_uri": "https://localhost:8080/"
        },
        "id": "lRvVVWWxB42C",
        "outputId": "f23605f4-fb38-46c1-9430-293b260d2bf5"
      },
      "execution_count": null,
      "outputs": [
        {
          "output_type": "stream",
          "name": "stdout",
          "text": [
            "Selecciona una operación:\n",
            "1: Suma\n",
            "2: Resta\n",
            "3: Multiplicación\n",
            "4: División\n",
            "Ingresa el número de la operación: 1\n",
            "Ingresa el primer número: 7\n",
            "Ingresa el segundo número: 32\n",
            "Resultado: 39.0\n"
          ]
        }
      ]
    },
    {
      "cell_type": "code",
      "source": [
        "#Clasificación de triángulos If/Elif/Else\n",
        "LADO1 = float(input(\"Ingresa el primer lado: \"))\n",
        "LADO2 = float(input(\"Ingresa el segundo lado: \"))\n",
        "LADO3 = float(input(\"Ingresa el tercer lado: \"))\n",
        "if LADO1 == LADO2 == LADO3:\n",
        "    print(\"Equilátero\")\n",
        "elif LADO1 == LADO2 or LADO2 == LADO3 or LADO1 == LADO3:\n",
        "    print(\"Isósceles\")\n",
        "else:\n",
        "    print(\"Escaleno\")"
      ],
      "metadata": {
        "colab": {
          "base_uri": "https://localhost:8080/"
        },
        "id": "PTllDS6Ehqm0",
        "outputId": "a57d74c4-479c-475b-c34d-61e9b2ddc211"
      },
      "execution_count": null,
      "outputs": [
        {
          "output_type": "stream",
          "name": "stdout",
          "text": [
            "Ingresa el primer lado: 1\n",
            "Ingresa el segundo lado: 3\n",
            "Ingresa el tercer lado: 2\n",
            "Escaleno\n"
          ]
        }
      ]
    },
    {
      "cell_type": "code",
      "source": [
        "#Clasificación de triángulos\n",
        "LADO1 = float(input(\"Ingresa el primer lado: \"))\n",
        "LADO2 = float(input(\"Ingresa el segundo lado: \"))\n",
        "LADO3 = float(input(\"Ingresa el tercer lado: \"))\n",
        "if LADO1 == LADO2 == LADO3:\n",
        "    print(\"Equilátero\")\n",
        "else:\n",
        "    if LADO1 == LADO2 or LADO2 == LADO3 or LADO1 == LADO3:\n",
        "        print(\"Isósceles\")\n",
        "    else:\n",
        "        print(\"Escaleno\")"
      ],
      "metadata": {
        "colab": {
          "base_uri": "https://localhost:8080/"
        },
        "id": "xpX6xmgEi0g2",
        "outputId": "8c8fa6ba-83e3-4eb5-d3fa-80f18ca499fd"
      },
      "execution_count": null,
      "outputs": [
        {
          "output_type": "stream",
          "name": "stdout",
          "text": [
            "Ingresa el primer lado: 3\n",
            "Ingresa el segundo lado: 3\n",
            "Ingresa el tercer lado: 3\n",
            "Equilátero\n",
            "Isósceles\n"
          ]
        }
      ]
    }
  ]
}