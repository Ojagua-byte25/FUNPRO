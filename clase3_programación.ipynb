{
  "nbformat": 4,
  "nbformat_minor": 0,
  "metadata": {
    "colab": {
      "provenance": [],
      "authorship_tag": "ABX9TyORF80YsUpJ9YtEx797Scs0",
      "include_colab_link": true
    },
    "kernelspec": {
      "name": "python3",
      "display_name": "Python 3"
    },
    "language_info": {
      "name": "python"
    }
  },
  "cells": [
    {
      "cell_type": "markdown",
      "metadata": {
        "id": "view-in-github",
        "colab_type": "text"
      },
      "source": [
        "<a href=\"https://colab.research.google.com/github/Ojagua-byte25/FUNPRO/blob/main/clase3_programaci%C3%B3n.ipynb\" target=\"_parent\"><img src=\"https://colab.research.google.com/assets/colab-badge.svg\" alt=\"Open In Colab\"/></a>"
      ]
    },
    {
      "cell_type": "code",
      "execution_count": null,
      "metadata": {
        "id": "1UMhLb-JS_4X"
      },
      "outputs": [],
      "source": []
    },
    {
      "cell_type": "markdown",
      "source": [
        "##IF-ELIF-ELSE\n",
        "Una de las formas para representar un swich.\n",
        "1. Hay uno o varias variables a evaluar.\n",
        "2. Hay tantas condiciones como \"paticas\"+1\n",
        "3. La ultima evaluacion es es ninguna de las anteriores(else)\n",
        "4. La primera patica recibe if\n",
        "5. El resto de paticas recibe \"elif\" Sintaxis"
      ],
      "metadata": {
        "id": "1Lq-a4oWT5z8"
      }
    },
    {
      "cell_type": "code",
      "source": [
        "#Pasa o no la materia, dependiendo de promedio>3 y asistencia>80%\n",
        "nota=float(input(\"Ingrese su promedio\"))\n",
        "asistencia=int(input(\"ingrese la cantidad de horas asistidas\"))\n",
        "horas_totales=int(input(\"Ingrese la cantidad de horas asistidas\"))\n",
        "if nota>=3 and asistencia>horas_totales*.8:\n",
        "   print(f\"El estudiante paso la materia con {nota} y asistio a mas del 80% de las clases\")\n",
        "elif nota<3 and asistencia>horas_totales*.8:\n",
        "   print(f\"El estudiante pierde la materia con {nota} pero asistio a mas del 80% de las clases\")\n",
        "elif nota>3 and asistencia<horas_totales*.8:\n",
        "  print(f\"El estudiante paso la materia con {nota} pero pierde debido a inasistencia\")\n",
        "else:\n",
        "  print(f\"El estudiante perdio la materia {nota} y no asistio a mas del 80% de las clases\")"
      ],
      "metadata": {
        "colab": {
          "base_uri": "https://localhost:8080/"
        },
        "id": "MEUlUSdsVAkD",
        "outputId": "bf7d16a5-4fd0-4eb3-c9e5-ffd89b7fdeb4"
      },
      "execution_count": 4,
      "outputs": [
        {
          "output_type": "stream",
          "name": "stdout",
          "text": [
            "Ingrese su promedio2\n",
            "ingrese la cantidad de horas asistidas10\n",
            "Ingrese la cantidad de horas asistidas4\n",
            "El estudiante pierde la materia con 2.0 pero asistio a mas del 80% de las clases\n"
          ]
        }
      ]
    },
    {
      "cell_type": "markdown",
      "source": [
        "#MATCH-CASE\n",
        "Otra forma de ver la estrcutura swich\n",
        "1. Dentro del hexagono se coloca la variable a evaluar\n",
        "2. Tantas \"paticas\" como valores pueda adoptar la variable\n",
        "3. opcional: se coloca else-->case _\n",
        "4. \"NO LO USES SI SE VAN A EVALUAR RANGOS\"\n",
        "Sintaxis\n",
        "```\n",
        "match variable:\n",
        "case valor1: expresion 1\n",
        "case valor2: expresion 2\n",
        "case valorn: expresion n\n",
        "case _: ninguna de las anteriores\n",
        "```\n",
        "\n"
      ],
      "metadata": {
        "id": "lXqrI18AZzJH"
      }
    },
    {
      "cell_type": "code",
      "source": [
        "#programa que identifique si la letra ingresada es una vocal mayuscula,minuscula\n",
        "letra=input(\"Ingrese una letra.\")\n",
        "match letra:\n",
        "  case \"a\":print(f\"{letra} es una vocal minuscula\")\n",
        "  case \"e\":print(f\"{letra} es una vocal minuscula\")\n",
        "  case \"i\":print(f\"{letra} es una vocal minuscula\")\n",
        "  case \"o\":print(f\"{letra} es una vocal minuscula\")\n",
        "  case \"u\":print(f\"{letra} es una vocal minuscula\")\n",
        "  case \"A\":print(f\"{letra} es una vocal MAYÚSCULA\")\n",
        "  case \"E\":print(f\"{letra} es una vocal MAYÚSCULA\")\n",
        "  case \"I\":print(f\"{letra} es una vocal MAYÚSCULA\")\n",
        "  case \"O\":print(f\"{letra} es una vocal MAYÚSCULA\")\n",
        "  case \"U\":print(f\"{letra} es una vocal MAYÚSCULA\")\n",
        "  case _:print(f\"{letra} no es una vocal\")"
      ],
      "metadata": {
        "colab": {
          "base_uri": "https://localhost:8080/"
        },
        "id": "yjmI6QuAbMz1",
        "outputId": "9ce2a991-c279-4d72-c91e-83fa41356d7a"
      },
      "execution_count": 5,
      "outputs": [
        {
          "output_type": "stream",
          "name": "stdout",
          "text": [
            "Ingrese una letra.X\n",
            "X no es una vocal\n"
          ]
        }
      ]
    },
    {
      "cell_type": "code",
      "source": [
        "#programa que identifique si la letra ingresada es una vocal mayuscula,minuscula\n",
        "letra=input(\"Ingrese una letra \")\n",
        "if letra==\"a\":\n",
        " print(f\"{letra} es una vocal minuscula\")\n",
        "elif letra==\"e\":\n",
        " print(f\"{letra} es una vocal minuscula\")\n",
        "elif letra==\"i\":\n",
        " print(f\"{letra} es una vocal minuscula\")\n",
        "elif letra==\"o\":\n",
        " print(f\"{letra} es una vocal minuscula\")\n",
        "elif letra==\"u\":\n",
        " print(f\"{letra} es una vocal minuscula\")\n",
        "elif letra==\"A\":\n",
        " print(f\"{letra} es una vocal MAYUSCULA\")\n",
        "elif letra==\"E\":\n",
        " print(f\"{letra} es una vocal MAYUSCULA\")\n",
        "elif letra==\"I\":\n",
        " print(f\"{letra} es una vocal MAYUSCULA\")\n",
        "elif letra==\"O\":\n",
        " print(f\"{letra} es una vocal MAYUSCULA\")\n",
        "elif letra==\"U\":\n",
        " print(f\"{letra} es una vocal MAYUSCULA\")\n",
        "else:\n",
        "  print(f\"{letra} NO es una vocal\")"
      ],
      "metadata": {
        "colab": {
          "base_uri": "https://localhost:8080/"
        },
        "id": "4Se-3_PUcte0",
        "outputId": "9ab8617c-2b4b-4662-8366-22dc3f0e8b3a"
      },
      "execution_count": 20,
      "outputs": [
        {
          "output_type": "stream",
          "name": "stdout",
          "text": [
            "Ingrese una letra o\n",
            "o es una vocal minuscula\n"
          ]
        }
      ]
    },
    {
      "cell_type": "code",
      "source": [],
      "metadata": {
        "id": "x3mfkqcpgapy"
      },
      "execution_count": null,
      "outputs": []
    }
  ]
}