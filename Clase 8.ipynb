{
  "nbformat": 4,
  "nbformat_minor": 0,
  "metadata": {
    "colab": {
      "provenance": [],
      "authorship_tag": "ABX9TyNtStVpr+h5Iy4+SRfQUvv0",
      "include_colab_link": true
    },
    "kernelspec": {
      "name": "python3",
      "display_name": "Python 3"
    },
    "language_info": {
      "name": "python"
    }
  },
  "cells": [
    {
      "cell_type": "markdown",
      "metadata": {
        "id": "view-in-github",
        "colab_type": "text"
      },
      "source": [
        "<a href=\"https://colab.research.google.com/github/Ojagua-byte25/FUNPRO/blob/main/Clase%208.ipynb\" target=\"_parent\"><img src=\"https://colab.research.google.com/assets/colab-badge.svg\" alt=\"Open In Colab\"/></a>"
      ]
    },
    {
      "cell_type": "markdown",
      "source": [
        "##ESTRUCTURA PARA/for\n",
        "La estructura"
      ],
      "metadata": {
        "id": "8RY_Y1rIuDUC"
      }
    },
    {
      "cell_type": "code",
      "source": [
        "#Hacer un programa que calcule la nómina de n empleado\n",
        "nomina=0\n",
        "n=int(input(\"Ingrese la cantidad de empleados: \"))\n",
        "for s in range(n):\n",
        "  sueldo=int(input(f\"Ingrese el salario del empleador {s+1}:\"))\n",
        "  nomina=nomina+sueldo #Acumulador\n",
        "print(f\"La nómina de {n} empleados es: {nomina}\")"
      ],
      "metadata": {
        "colab": {
          "base_uri": "https://localhost:8080/"
        },
        "id": "P37_ssszuUzy",
        "outputId": "11441ab1-6814-45a0-e0a5-64507fee671a"
      },
      "execution_count": 9,
      "outputs": [
        {
          "output_type": "stream",
          "name": "stdout",
          "text": [
            "Ingrese la cantidad de empleados: 3\n",
            "Ingrese el salario del empleador 1:2\n",
            "Ingrese el salario del empleador 2:1\n",
            "Ingrese el salario del empleador 3:3\n",
            "La nómina de 3 empleados es: 6\n"
          ]
        }
      ]
    }
  ]
}