{
  "nbformat": 4,
  "nbformat_minor": 0,
  "metadata": {
    "colab": {
      "provenance": []
    },
    "kernelspec": {
      "name": "python3",
      "display_name": "Python 3"
    },
    "language_info": {
      "name": "python"
    }
  },
  "cells": [
    {
      "cell_type": "code",
      "source": [
        "humedad = float(input(\"Humedad del suelo (%): \"))\n",
        "lluvia = float(input(\"Probabilidad de lluvia (%): \"))\n",
        "temperatura = float(input(\"Temperatura (°C): \"))\n",
        "hora = int(input(\"Hora actual (0-24): \"))\n",
        "if humedad == 0 or lluvia == 0 or temperatura == 0:\n",
        "    print(\"Error sensor\")\n",
        "else:\n",
        "    if lluvia >= 70:\n",
        "        print(\"No se riega por alta probabilidad de lluvia\")\n",
        "    else:\n",
        "        if hora >= 11 and hora <= 15 and temperatura > 30:\n",
        "            print(\"No se riega por alta temperatura en horario de evaporación\")\n",
        "        else:\n",
        "            if humedad < 35 and lluvia < 40:\n",
        "                print(\"Se activa el riego\")\n",
        "            else:\n",
        "                print(\"No se riega\")"
      ],
      "metadata": {
        "colab": {
          "base_uri": "https://localhost:8080/"
        },
        "id": "mjX05Pp-GlEe",
        "outputId": "58bbfd1d-0515-4a12-c477-d9895ae5e58d"
      },
      "execution_count": 19,
      "outputs": [
        {
          "output_type": "stream",
          "name": "stdout",
          "text": [
            "Humedad del suelo (%): 30\n",
            "Probabilidad de lluvia (%): 20\n",
            "Temperatura (°C): 4\n",
            "Hora actual (0-24): 12\n",
            "Se activa el riego\n"
          ]
        }
      ]
    },
    {
      "cell_type": "code",
      "source": [
        "consumo = float(input(\"Ingrese el consumo de Kwh: \"))\n",
        "estrato = int(input(\"Ingrese el estrato social: \"))\n",
        "festivo = input(\"¿Hoy es festivo? (si/no): \")\n",
        "if consumo < 0 or estrato < 0:\n",
        "    print(\"No se puede calcular el total, por favor verifique los datos.\")\n",
        "else:\n",
        "    total_pagar = consumo * 620\n",
        "    if estrato == 0 or estrato == 1 or estrato == 2:\n",
        "        total_pagar = total_pagar * 0.8  # Aplica descuento del 20%\n",
        "    if festivo == \"si\" and consumo > 1000:\n",
        "        recargo = (consumo - 1000) * 800\n",
        "        total_pagar = total_pagar + recargo\n",
        "    print(\"El total a pagar es:\", total_pagar)"
      ],
      "metadata": {
        "colab": {
          "base_uri": "https://localhost:8080/"
        },
        "id": "AR5GQWRBG-MB",
        "outputId": "9efbe1ca-b2d5-4aee-c11e-7ebf2e4f2cc7"
      },
      "execution_count": 18,
      "outputs": [
        {
          "output_type": "stream",
          "name": "stdout",
          "text": [
            "Ingrese el consumo de Kwh: 2000\n",
            "Ingrese el estrato social: 3\n",
            "¿Hoy es festivo? (si/no): si\n",
            "El total a pagar es: 2040000.0\n"
          ]
        }
      ]
    }
  ]
}