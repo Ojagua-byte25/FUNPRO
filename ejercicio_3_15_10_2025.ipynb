{
  "nbformat": 4,
  "nbformat_minor": 0,
  "metadata": {
    "colab": {
      "provenance": [],
      "authorship_tag": "ABX9TyNn3/QEDxMwyfYyYJ8wYO8b",
      "include_colab_link": true
    },
    "kernelspec": {
      "name": "python3",
      "display_name": "Python 3"
    },
    "language_info": {
      "name": "python"
    }
  },
  "cells": [
    {
      "cell_type": "markdown",
      "metadata": {
        "id": "view-in-github",
        "colab_type": "text"
      },
      "source": [
        "<a href=\"https://colab.research.google.com/github/Ojagua-byte25/FUNPRO/blob/main/ejercicio_3_15_10_2025.ipynb\" target=\"_parent\"><img src=\"https://colab.research.google.com/assets/colab-badge.svg\" alt=\"Open In Colab\"/></a>"
      ]
    },
    {
      "cell_type": "code",
      "execution_count": 1,
      "metadata": {
        "colab": {
          "base_uri": "https://localhost:8080/"
        },
        "id": "SeY9dJoaENpx",
        "outputId": "424983a2-b89a-4549-ff66-e748e6995b83"
      },
      "outputs": [
        {
          "output_type": "stream",
          "name": "stdout",
          "text": [
            "Ingrese el número de cifras del número3\n",
            "Ingrese la cifra0 de su numero: 6\n",
            "Ingrese la cifra1 de su numero: 2\n",
            "Ingrese la cifra2 de su numero: 1\n",
            "La cantidad de 1 en su número es de 1.\n"
          ]
        }
      ],
      "source": [
        "cifras=int(input(\"Ingrese el número de cifras del número\"))\n",
        "uno=0\n",
        "for i in range(cifras):\n",
        "  num=int(input(f\"Ingrese la cifra{i} de su numero: \"))\n",
        "  if num==1: uno=uno+1\n",
        "print(f\"La cantidad de 1 en su número es de {uno}.\")"
      ]
    }
  ]
}