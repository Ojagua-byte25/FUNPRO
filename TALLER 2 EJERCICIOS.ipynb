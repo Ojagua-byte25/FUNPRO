{
  "nbformat": 4,
  "nbformat_minor": 0,
  "metadata": {
    "colab": {
      "provenance": [],
      "authorship_tag": "ABX9TyPVumGF/z6FeLCAWEjYFAix",
      "include_colab_link": true
    },
    "kernelspec": {
      "name": "python3",
      "display_name": "Python 3"
    },
    "language_info": {
      "name": "python"
    }
  },
  "cells": [
    {
      "cell_type": "markdown",
      "metadata": {
        "id": "view-in-github",
        "colab_type": "text"
      },
      "source": [
        "<a href=\"https://colab.research.google.com/github/Ojagua-byte25/FUNPRO/blob/main/TALLER%202%20EJERCICIOS.ipynb\" target=\"_parent\"><img src=\"https://colab.research.google.com/assets/colab-badge.svg\" alt=\"Open In Colab\"/></a>"
      ]
    },
    {
      "cell_type": "code",
      "execution_count": 1,
      "metadata": {
        "colab": {
          "base_uri": "https://localhost:8080/"
        },
        "id": "JuTJ8wWkOPYV",
        "outputId": "daea20f3-af36-4c7f-b5e6-f50e0599b6e6"
      },
      "outputs": [
        {
          "output_type": "stream",
          "name": "stdout",
          "text": [
            "Humedad del suelo (%): 30\n",
            "Probabilidad de lluvia (%): 20\n",
            "Temperatura (°C): 4\n",
            "Hora actual (0-24): 12\n",
            "Se activa el riego\n"
          ]
        }
      ],
      "source": [
        "humedad = float(input(\"Humedad del suelo (%): \"))\n",
        "lluvia = float(input(\"Probabilidad de lluvia (%): \"))\n",
        "temperatura = float(input(\"Temperatura (°C): \"))\n",
        "hora = int(input(\"Hora actual (0-24): \"))\n",
        "if humedad == 0 or lluvia == 0 or temperatura == 0:\n",
        "    print(\"Error sensor\")\n",
        "else:\n",
        "    if lluvia >= 70:\n",
        "        print(\"No se riega por alta probabilidad de lluvia\")\n",
        "    else:\n",
        "        if hora >= 11 and hora <= 15 and temperatura > 30:\n",
        "            print(\"No se riega por alta temperatura en horario de evaporación\")\n",
        "        else:\n",
        "            if humedad < 35 and lluvia < 40:\n",
        "                print(\"Se activa el riego\")\n",
        "            else:\n",
        "                print(\"No se riega\")"
      ]
    },
    {
      "cell_type": "code",
      "source": [
        "kwh_consumo = float(input(\"Ingrese el consumo de Kwh: \"))\n",
        "estrato = int(input(\"Ingrese el estrato social: \"))\n",
        "festivo = input(\"¿Hoy es festivo? (si/no): \")\n",
        "if kwh_consumo < 0 or estrato < 0:\n",
        "    print(\"No se puede calcular el total, por favor verifique los datos.\")\n",
        "else:\n",
        "    total_pagar = kwh_consumo * 620\n",
        "    # Aplicar descuento del 20% si el estrato es 0, 1 o 2\n",
        "    if estrato == 0 or estrato == 1 or estrato == 2:\n",
        "        total_pagar = total_pagar * 0.8\n",
        "    # Aplicar recargo si es festivo y el consumo es mayor a 1000\n",
        "    if festivo == \"si\" and kwh_consumo > 1000:\n",
        "        recargo = (kwh_consumo - 1000) * 800\n",
        "        total_pagar = total_pagar + recargo\n",
        "    print(\"El total a pagar es:\", total_pagar)"
      ],
      "metadata": {
        "colab": {
          "base_uri": "https://localhost:8080/"
        },
        "id": "kAuE8yntPQHP",
        "outputId": "6237983f-47b1-48d6-d2ef-575ff5d5064d"
      },
      "execution_count": 3,
      "outputs": [
        {
          "output_type": "stream",
          "name": "stdout",
          "text": [
            "Ingrese el consumo de Kwh: 5\n",
            "Ingrese el estrato social: 2\n",
            "¿Hoy es festivo? (si/no): no\n",
            "El total a pagar es: 2480.0\n"
          ]
        }
      ]
    }
  ]
}