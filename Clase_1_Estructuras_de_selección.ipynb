{
  "nbformat": 4,
  "nbformat_minor": 0,
  "metadata": {
    "colab": {
      "provenance": []
    },
    "kernelspec": {
      "name": "python3",
      "display_name": "Python 3"
    },
    "language_info": {
      "name": "python"
    }
  },
  "cells": [
    {
      "cell_type": "markdown",
      "source": [
        "#ESTRUCTURAS DE SELECCIÓN\n",
        "1. Estructura si/entonces - if/else\n",
        "2. Estructura si/sino/entonces - if/elif/else\n",
        "3. Estructura de selección múltiple - case"
      ],
      "metadata": {
        "id": "szChVN1SScm0"
      }
    },
    {
      "cell_type": "markdown",
      "source": [
        "##Estructura si/entonces if/else\n",
        "Sirve para evaluar una condición.\n",
        "Estas condiciones darán un valor de verdad Sintaxis\n",
        "\n",
        "\n",
        "```\n",
        "if (condición):\n",
        "   aqui a algo, si la condición es verdadera\n",
        "else:\n",
        "  aquí va algo, si la condición es falsa\n",
        "```\n",
        "\n"
      ],
      "metadata": {
        "id": "5DPWqjZxVTKD"
      }
    },
    {
      "cell_type": "code",
      "execution_count": null,
      "metadata": {
        "id": "1Ql30B5iSKI-"
      },
      "outputs": [],
      "source": [
        "#Ejemplo1: AI para gasolina\n",
        "respuesta=\"\" #Declaramos una variable como caracter\n",
        "#Para imprimir, usamos el comando print\n",
        "print(\"Dectecto poca gasolina en el tanque\")\n",
        "print(\"Desea ir a la gasolinera mas cercana?\")\n"
      ]
    },
    {
      "cell_type": "code",
      "source": [
        "respuesta=input(\"Detecto poca gasolina en el tanque\\nDesea ir a la gasolinera más cercana?\")"
      ],
      "metadata": {
        "colab": {
          "base_uri": "https://localhost:8080/"
        },
        "id": "EHLbHJpPcvnE",
        "outputId": "84ac4fb5-2a55-4327-db4a-3fc36a50f985"
      },
      "execution_count": 3,
      "outputs": [
        {
          "name": "stdout",
          "output_type": "stream",
          "text": [
            "Detecto poca gasolina en el tanque\n",
            "Desea ir a la gasolinera más cercana?si\n"
          ]
        }
      ]
    },
    {
      "cell_type": "code",
      "source": [
        "if respuesta==\"si\":\n",
        "  print(\"Ir a la gasolinera mas cercana\")\n",
        "else:\n",
        "    print(\"seguimos derecho\")"
      ],
      "metadata": {
        "colab": {
          "base_uri": "https://localhost:8080/"
        },
        "id": "qAtDec7_d-kT",
        "outputId": "30ea8fd6-4bab-443e-d2a5-433911f9f15a"
      },
      "execution_count": 6,
      "outputs": [
        {
          "output_type": "stream",
          "name": "stdout",
          "text": [
            "Ir a la gasolinera mas cercana\n"
          ]
        }
      ]
    },
    {
      "cell_type": "markdown",
      "source": [],
      "metadata": {
        "id": "CGBT3KhJiYs4"
      }
    },
    {
      "cell_type": "code",
      "source": [
        "if gasolina<=10:\n",
        "  respuesta=input(\"Detecto poca gasolina en el tanque\\nDesea ir a la gasolinera más cercana?\")\n",
        "  if respues==\"si\":\n",
        "    print(\"Ir a la gasolinera mas cercanas\")\n",
        ""
      ],
      "metadata": {
        "id": "6y-9shS6iZM_"
      },
      "execution_count": null,
      "outputs": []
    }
  ]
}